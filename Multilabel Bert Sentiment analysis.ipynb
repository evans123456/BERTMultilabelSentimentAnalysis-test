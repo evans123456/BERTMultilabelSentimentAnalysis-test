{
 "cells": [
  {
   "cell_type": "code",
   "execution_count": 3,
   "id": "87521366",
   "metadata": {},
   "outputs": [
    {
     "name": "stdout",
     "output_type": "stream",
     "text": [
      "Requirement already satisfied: ktrain in c:\\users\\eg00850\\anaconda3\\lib\\site-packages (0.27.3)\n",
      "Requirement already satisfied: cchardet in c:\\users\\eg00850\\anaconda3\\lib\\site-packages (from ktrain) (2.1.7)\n",
      "Requirement already satisfied: networkx>=2.3 in c:\\users\\eg00850\\anaconda3\\lib\\site-packages (from ktrain) (2.5)\n",
      "Requirement already satisfied: pandas>=1.0.1 in c:\\users\\eg00850\\anaconda3\\lib\\site-packages (from ktrain) (1.2.4)\n",
      "Requirement already satisfied: scikit-learn==0.23.2 in c:\\users\\eg00850\\anaconda3\\lib\\site-packages (from ktrain) (0.23.2)\n",
      "Requirement already satisfied: whoosh in c:\\users\\eg00850\\anaconda3\\lib\\site-packages (from ktrain) (2.7.4)\n",
      "Requirement already satisfied: sentencepiece in c:\\users\\eg00850\\anaconda3\\lib\\site-packages (from ktrain) (0.1.96)\n",
      "Requirement already satisfied: transformers<=4.3.3,>=4.0.0 in c:\\users\\eg00850\\anaconda3\\lib\\site-packages (from ktrain) (4.3.3)\n",
      "Requirement already satisfied: langdetect in c:\\users\\eg00850\\anaconda3\\lib\\site-packages (from ktrain) (1.0.9)\n",
      "Requirement already satisfied: matplotlib>=3.0.0 in c:\\users\\eg00850\\anaconda3\\lib\\site-packages (from ktrain) (3.3.4)\n",
      "Requirement already satisfied: jieba in c:\\users\\eg00850\\anaconda3\\lib\\site-packages (from ktrain) (0.42.1)\n",
      "Requirement already satisfied: keras-bert>=0.86.0 in c:\\users\\eg00850\\anaconda3\\lib\\site-packages (from ktrain) (0.88.0)\n",
      "Requirement already satisfied: syntok in c:\\users\\eg00850\\anaconda3\\lib\\site-packages (from ktrain) (1.3.1)\n",
      "Requirement already satisfied: fastprogress>=0.1.21 in c:\\users\\eg00850\\anaconda3\\lib\\site-packages (from ktrain) (1.0.0)\n",
      "Requirement already satisfied: joblib in c:\\users\\eg00850\\anaconda3\\lib\\site-packages (from ktrain) (1.0.1)\n",
      "Requirement already satisfied: seqeval==0.0.19 in c:\\users\\eg00850\\anaconda3\\lib\\site-packages (from ktrain) (0.0.19)\n",
      "Requirement already satisfied: chardet in c:\\users\\eg00850\\anaconda3\\lib\\site-packages (from ktrain) (4.0.0)\n",
      "Requirement already satisfied: requests in c:\\users\\eg00850\\anaconda3\\lib\\site-packages (from ktrain) (2.25.1)\n",
      "Requirement already satisfied: packaging in c:\\users\\eg00850\\anaconda3\\lib\\site-packages (from ktrain) (20.9)\n",
      "Requirement already satisfied: ipython in c:\\users\\eg00850\\anaconda3\\lib\\site-packages (from ktrain) (7.22.0)\n",
      "Requirement already satisfied: scipy>=0.19.1 in c:\\users\\eg00850\\anaconda3\\lib\\site-packages (from scikit-learn==0.23.2->ktrain) (1.6.2)\n",
      "Requirement already satisfied: threadpoolctl>=2.0.0 in c:\\users\\eg00850\\anaconda3\\lib\\site-packages (from scikit-learn==0.23.2->ktrain) (2.1.0)\n",
      "Requirement already satisfied: numpy>=1.13.3 in c:\\users\\eg00850\\anaconda3\\lib\\site-packages (from scikit-learn==0.23.2->ktrain) (1.20.1)\n",
      "Requirement already satisfied: Keras>=2.2.4 in c:\\users\\eg00850\\anaconda3\\lib\\site-packages (from seqeval==0.0.19->ktrain) (2.6.0)\n",
      "Requirement already satisfied: keras-transformer>=0.39.0 in c:\\users\\eg00850\\anaconda3\\lib\\site-packages (from keras-bert>=0.86.0->ktrain) (0.39.0)\n",
      "Requirement already satisfied: keras-pos-embd>=0.12.0 in c:\\users\\eg00850\\anaconda3\\lib\\site-packages (from keras-transformer>=0.39.0->keras-bert>=0.86.0->ktrain) (0.12.0)\n",
      "Requirement already satisfied: keras-layer-normalization>=0.15.0 in c:\\users\\eg00850\\anaconda3\\lib\\site-packages (from keras-transformer>=0.39.0->keras-bert>=0.86.0->ktrain) (0.15.0)\n",
      "Requirement already satisfied: keras-multi-head>=0.28.0 in c:\\users\\eg00850\\anaconda3\\lib\\site-packages (from keras-transformer>=0.39.0->keras-bert>=0.86.0->ktrain) (0.28.0)\n",
      "Requirement already satisfied: keras-position-wise-feed-forward>=0.7.0 in c:\\users\\eg00850\\anaconda3\\lib\\site-packages (from keras-transformer>=0.39.0->keras-bert>=0.86.0->ktrain) (0.7.0)\n",
      "Requirement already satisfied: keras-embed-sim>=0.9.0 in c:\\users\\eg00850\\anaconda3\\lib\\site-packages (from keras-transformer>=0.39.0->keras-bert>=0.86.0->ktrain) (0.9.0)\n",
      "Requirement already satisfied: keras-self-attention>=0.50.0 in c:\\users\\eg00850\\anaconda3\\lib\\site-packages (from keras-multi-head>=0.28.0->keras-transformer>=0.39.0->keras-bert>=0.86.0->ktrain) (0.50.0)\n",
      "Requirement already satisfied: pyparsing!=2.0.4,!=2.1.2,!=2.1.6,>=2.0.3 in c:\\users\\eg00850\\anaconda3\\lib\\site-packages (from matplotlib>=3.0.0->ktrain) (2.4.7)\n",
      "Requirement already satisfied: cycler>=0.10 in c:\\users\\eg00850\\anaconda3\\lib\\site-packages (from matplotlib>=3.0.0->ktrain) (0.10.0)\n",
      "Requirement already satisfied: pillow>=6.2.0 in c:\\users\\eg00850\\anaconda3\\lib\\site-packages (from matplotlib>=3.0.0->ktrain) (8.2.0)\n",
      "Requirement already satisfied: kiwisolver>=1.0.1 in c:\\users\\eg00850\\anaconda3\\lib\\site-packages (from matplotlib>=3.0.0->ktrain) (1.3.1)\n",
      "Requirement already satisfied: python-dateutil>=2.1 in c:\\users\\eg00850\\anaconda3\\lib\\site-packages (from matplotlib>=3.0.0->ktrain) (2.8.1)\n",
      "Requirement already satisfied: six in c:\\users\\eg00850\\anaconda3\\lib\\site-packages (from cycler>=0.10->matplotlib>=3.0.0->ktrain) (1.15.0)\n",
      "Requirement already satisfied: decorator>=4.3.0 in c:\\users\\eg00850\\anaconda3\\lib\\site-packages (from networkx>=2.3->ktrain) (5.0.6)\n",
      "Requirement already satisfied: pytz>=2017.3 in c:\\users\\eg00850\\anaconda3\\lib\\site-packages (from pandas>=1.0.1->ktrain) (2021.1)\n",
      "Requirement already satisfied: tokenizers<0.11,>=0.10.1 in c:\\users\\eg00850\\anaconda3\\lib\\site-packages (from transformers<=4.3.3,>=4.0.0->ktrain) (0.10.3)\n",
      "Requirement already satisfied: sacremoses in c:\\users\\eg00850\\anaconda3\\lib\\site-packages (from transformers<=4.3.3,>=4.0.0->ktrain) (0.0.46)\n",
      "Requirement already satisfied: filelock in c:\\users\\eg00850\\anaconda3\\lib\\site-packages (from transformers<=4.3.3,>=4.0.0->ktrain) (3.0.12)\n",
      "Requirement already satisfied: regex!=2019.12.17 in c:\\users\\eg00850\\anaconda3\\lib\\site-packages (from transformers<=4.3.3,>=4.0.0->ktrain) (2021.4.4)\n",
      "Requirement already satisfied: tqdm>=4.27 in c:\\users\\eg00850\\anaconda3\\lib\\site-packages (from transformers<=4.3.3,>=4.0.0->ktrain) (4.59.0)\n",
      "Requirement already satisfied: traitlets>=4.2 in c:\\users\\eg00850\\anaconda3\\lib\\site-packages (from ipython->ktrain) (5.0.5)\n",
      "Requirement already satisfied: colorama in c:\\users\\eg00850\\anaconda3\\lib\\site-packages (from ipython->ktrain) (0.4.4)\n",
      "Requirement already satisfied: pickleshare in c:\\users\\eg00850\\anaconda3\\lib\\site-packages (from ipython->ktrain) (0.7.5)\n",
      "Requirement already satisfied: jedi>=0.16 in c:\\users\\eg00850\\anaconda3\\lib\\site-packages (from ipython->ktrain) (0.17.2)\n",
      "Requirement already satisfied: pygments in c:\\users\\eg00850\\anaconda3\\lib\\site-packages (from ipython->ktrain) (2.8.1)\n",
      "Requirement already satisfied: setuptools>=18.5 in c:\\users\\eg00850\\anaconda3\\lib\\site-packages (from ipython->ktrain) (52.0.0.post20210125)\n",
      "Requirement already satisfied: backcall in c:\\users\\eg00850\\anaconda3\\lib\\site-packages (from ipython->ktrain) (0.2.0)\n",
      "Requirement already satisfied: prompt-toolkit!=3.0.0,!=3.0.1,<3.1.0,>=2.0.0 in c:\\users\\eg00850\\anaconda3\\lib\\site-packages (from ipython->ktrain) (3.0.17)\n",
      "Requirement already satisfied: parso<0.8.0,>=0.7.0 in c:\\users\\eg00850\\anaconda3\\lib\\site-packages (from jedi>=0.16->ipython->ktrain) (0.7.0)\n",
      "Requirement already satisfied: wcwidth in c:\\users\\eg00850\\anaconda3\\lib\\site-packages (from prompt-toolkit!=3.0.0,!=3.0.1,<3.1.0,>=2.0.0->ipython->ktrain) (0.2.5)\n",
      "Requirement already satisfied: ipython-genutils in c:\\users\\eg00850\\anaconda3\\lib\\site-packages (from traitlets>=4.2->ipython->ktrain) (0.2.0)\n",
      "Requirement already satisfied: certifi>=2017.4.17 in c:\\users\\eg00850\\anaconda3\\lib\\site-packages (from requests->ktrain) (2020.12.5)\n",
      "Requirement already satisfied: idna<3,>=2.5 in c:\\users\\eg00850\\anaconda3\\lib\\site-packages (from requests->ktrain) (2.10)\n",
      "Requirement already satisfied: urllib3<1.27,>=1.21.1 in c:\\users\\eg00850\\anaconda3\\lib\\site-packages (from requests->ktrain) (1.26.4)\n",
      "Requirement already satisfied: click in c:\\users\\eg00850\\anaconda3\\lib\\site-packages (from sacremoses->transformers<=4.3.3,>=4.0.0->ktrain) (7.1.2)\n"
     ]
    }
   ],
   "source": [
    "!pip install ktrain\n"
   ]
  },
  {
   "cell_type": "code",
   "execution_count": 5,
   "id": "0a0ca4c8",
   "metadata": {},
   "outputs": [
    {
     "name": "stdout",
     "output_type": "stream",
     "text": [
      "Requirement already satisfied: pip in c:\\users\\eg00850\\anaconda3\\lib\\site-packages (21.0.1)\n",
      "Collecting install\n",
      "  Downloading install-1.3.4-py3-none-any.whl (3.1 kB)\n",
      "Collecting tensorflow\n",
      "  Downloading tensorflow-2.6.0-cp38-cp38-win_amd64.whl (423.2 MB)\n",
      "Collecting astunparse~=1.6.3\n",
      "  Downloading astunparse-1.6.3-py2.py3-none-any.whl (12 kB)\n",
      "Collecting flatbuffers~=1.12.0\n",
      "  Downloading flatbuffers-1.12-py2.py3-none-any.whl (15 kB)\n",
      "Collecting numpy~=1.19.2\n",
      "  Downloading numpy-1.19.5-cp38-cp38-win_amd64.whl (13.3 MB)\n",
      "Collecting h5py~=3.1.0\n",
      "  Downloading h5py-3.1.0-cp38-cp38-win_amd64.whl (2.7 MB)\n",
      "Collecting opt-einsum~=3.3.0\n",
      "  Downloading opt_einsum-3.3.0-py3-none-any.whl (65 kB)\n",
      "Collecting tensorboard~=2.6\n",
      "  Downloading tensorboard-2.6.0-py3-none-any.whl (5.6 MB)\n",
      "Collecting clang~=5.0\n",
      "  Downloading clang-5.0.tar.gz (30 kB)\n",
      "Collecting google-pasta~=0.2\n",
      "  Downloading google_pasta-0.2.0-py3-none-any.whl (57 kB)\n",
      "Collecting tensorflow-estimator~=2.6\n",
      "  Downloading tensorflow_estimator-2.6.0-py2.py3-none-any.whl (462 kB)\n",
      "Collecting grpcio<2.0,>=1.37.0\n",
      "  Downloading grpcio-1.41.0-cp38-cp38-win_amd64.whl (3.2 MB)\n",
      "Collecting gast==0.4.0\n",
      "  Downloading gast-0.4.0-py3-none-any.whl (9.8 kB)\n",
      "Collecting protobuf>=3.9.2\n",
      "  Downloading protobuf-3.18.0-cp38-cp38-win_amd64.whl (912 kB)\n",
      "Requirement already satisfied: keras~=2.6 in c:\\users\\eg00850\\anaconda3\\lib\\site-packages (from tensorflow) (2.6.0)\n",
      "Requirement already satisfied: wrapt~=1.12.1 in c:\\users\\eg00850\\anaconda3\\lib\\site-packages (from tensorflow) (1.12.1)\n",
      "Collecting termcolor~=1.1.0\n",
      "  Downloading termcolor-1.1.0.tar.gz (3.9 kB)\n",
      "Collecting absl-py~=0.10\n",
      "  Downloading absl_py-0.14.0-py3-none-any.whl (131 kB)\n",
      "Collecting keras-preprocessing~=1.1.2\n",
      "  Downloading Keras_Preprocessing-1.1.2-py2.py3-none-any.whl (42 kB)\n",
      "Requirement already satisfied: typing-extensions~=3.7.4 in c:\\users\\eg00850\\anaconda3\\lib\\site-packages (from tensorflow) (3.7.4.3)\n",
      "Requirement already satisfied: wheel~=0.35 in c:\\users\\eg00850\\anaconda3\\lib\\site-packages (from tensorflow) (0.36.2)\n",
      "Requirement already satisfied: six~=1.15.0 in c:\\users\\eg00850\\anaconda3\\lib\\site-packages (from tensorflow) (1.15.0)\n",
      "Collecting tensorboard-data-server<0.7.0,>=0.6.0\n",
      "  Downloading tensorboard_data_server-0.6.1-py3-none-any.whl (2.4 kB)\n",
      "Collecting google-auth-oauthlib<0.5,>=0.4.1\n",
      "  Downloading google_auth_oauthlib-0.4.6-py2.py3-none-any.whl (18 kB)\n",
      "Requirement already satisfied: werkzeug>=0.11.15 in c:\\users\\eg00850\\anaconda3\\lib\\site-packages (from tensorboard~=2.6->tensorflow) (1.0.1)\n",
      "Collecting tensorboard-plugin-wit>=1.6.0\n",
      "  Downloading tensorboard_plugin_wit-1.8.0-py3-none-any.whl (781 kB)\n",
      "Requirement already satisfied: requests<3,>=2.21.0 in c:\\users\\eg00850\\anaconda3\\lib\\site-packages (from tensorboard~=2.6->tensorflow) (2.25.1)\n",
      "Collecting markdown>=2.6.8\n",
      "  Downloading Markdown-3.3.4-py3-none-any.whl (97 kB)\n",
      "Collecting google-auth<2,>=1.6.3\n",
      "  Downloading google_auth-1.35.0-py2.py3-none-any.whl (152 kB)\n",
      "Requirement already satisfied: setuptools>=41.0.0 in c:\\users\\eg00850\\anaconda3\\lib\\site-packages (from tensorboard~=2.6->tensorflow) (52.0.0.post20210125)\n",
      "Collecting rsa<5,>=3.1.4\n",
      "  Downloading rsa-4.7.2-py3-none-any.whl (34 kB)\n",
      "Collecting pyasn1-modules>=0.2.1\n",
      "  Downloading pyasn1_modules-0.2.8-py2.py3-none-any.whl (155 kB)\n",
      "Collecting cachetools<5.0,>=2.0.0\n",
      "  Downloading cachetools-4.2.2-py3-none-any.whl (11 kB)\n",
      "Collecting requests-oauthlib>=0.7.0\n",
      "  Downloading requests_oauthlib-1.3.0-py2.py3-none-any.whl (23 kB)\n",
      "Collecting pyasn1<0.5.0,>=0.4.6\n",
      "  Downloading pyasn1-0.4.8-py2.py3-none-any.whl (77 kB)\n",
      "Requirement already satisfied: certifi>=2017.4.17 in c:\\users\\eg00850\\anaconda3\\lib\\site-packages (from requests<3,>=2.21.0->tensorboard~=2.6->tensorflow) (2020.12.5)\n",
      "Requirement already satisfied: urllib3<1.27,>=1.21.1 in c:\\users\\eg00850\\anaconda3\\lib\\site-packages (from requests<3,>=2.21.0->tensorboard~=2.6->tensorflow) (1.26.4)\n",
      "Requirement already satisfied: idna<3,>=2.5 in c:\\users\\eg00850\\anaconda3\\lib\\site-packages (from requests<3,>=2.21.0->tensorboard~=2.6->tensorflow) (2.10)\n",
      "Requirement already satisfied: chardet<5,>=3.0.2 in c:\\users\\eg00850\\anaconda3\\lib\\site-packages (from requests<3,>=2.21.0->tensorboard~=2.6->tensorflow) (4.0.0)\n",
      "Collecting oauthlib>=3.0.0\n",
      "  Downloading oauthlib-3.1.1-py2.py3-none-any.whl (146 kB)\n",
      "Building wheels for collected packages: clang, termcolor\n",
      "  Building wheel for clang (setup.py): started\n",
      "  Building wheel for clang (setup.py): finished with status 'done'\n",
      "  Created wheel for clang: filename=clang-5.0-py3-none-any.whl size=30702 sha256=ad4d714184e1d717246e09ed9686c47e66276dc770f60f0d1bdfb22c3ef0d4d7\n",
      "  Stored in directory: c:\\users\\eg00850\\appdata\\local\\pip\\cache\\wheels\\f1\\60\\77\\22b9b5887bd47801796a856f47650d9789c74dc3161a26d608\n",
      "  Building wheel for termcolor (setup.py): started\n",
      "  Building wheel for termcolor (setup.py): finished with status 'done'\n",
      "  Created wheel for termcolor: filename=termcolor-1.1.0-py3-none-any.whl size=4829 sha256=b9600e21468093406844287be3e3e35115173ed7d7afcee0527d8a35c2a66e26\n",
      "  Stored in directory: c:\\users\\eg00850\\appdata\\local\\pip\\cache\\wheels\\a0\\16\\9c\\5473df82468f958445479c59e784896fa24f4a5fc024b0f501\n",
      "Successfully built clang termcolor\n",
      "Installing collected packages: pyasn1, rsa, pyasn1-modules, oauthlib, cachetools, requests-oauthlib, google-auth, tensorboard-plugin-wit, tensorboard-data-server, protobuf, numpy, markdown, grpcio, google-auth-oauthlib, absl-py, termcolor, tensorflow-estimator, tensorboard, opt-einsum, keras-preprocessing, h5py, google-pasta, gast, flatbuffers, clang, astunparse, tensorflow, install\n",
      "  Attempting uninstall: numpy\n",
      "    Found existing installation: numpy 1.20.1\n",
      "    Uninstalling numpy-1.20.1:\n",
      "      Successfully uninstalled numpy-1.20.1\n",
      "  Attempting uninstall: h5py\n",
      "    Found existing installation: h5py 2.10.0\n",
      "    Uninstalling h5py-2.10.0:\n",
      "      Successfully uninstalled h5py-2.10.0\n",
      "Successfully installed absl-py-0.14.0 astunparse-1.6.3 cachetools-4.2.2 clang-5.0 flatbuffers-1.12 gast-0.4.0 google-auth-1.35.0 google-auth-oauthlib-0.4.6 google-pasta-0.2.0 grpcio-1.41.0 h5py-3.1.0 install-1.3.4 keras-preprocessing-1.1.2 markdown-3.3.4 numpy-1.19.5 oauthlib-3.1.1 opt-einsum-3.3.0 protobuf-3.18.0 pyasn1-0.4.8 pyasn1-modules-0.2.8 requests-oauthlib-1.3.0 rsa-4.7.2 tensorboard-2.6.0 tensorboard-data-server-0.6.1 tensorboard-plugin-wit-1.8.0 tensorflow-2.6.0 tensorflow-estimator-2.6.0 termcolor-1.1.0\n"
     ]
    }
   ],
   "source": [
    "!pip install pip install tensorflow"
   ]
  },
  {
   "cell_type": "code",
   "execution_count": 17,
   "id": "fa55c768",
   "metadata": {},
   "outputs": [],
   "source": [
    "import ktrain\n",
    "import matplotlib.pyplot as plt"
   ]
  },
  {
   "cell_type": "code",
   "execution_count": 9,
   "id": "324deeb1",
   "metadata": {},
   "outputs": [],
   "source": [
    "predictor = ktrain.load_predictor('./bertModel')\n",
    "# continue training here (e.g., learner.fit_onecycle)\n"
   ]
  },
  {
   "cell_type": "code",
   "execution_count": 10,
   "id": "67df6149",
   "metadata": {},
   "outputs": [],
   "source": [
    "# learner = ktrain.get_learner(predictor.model, train_data = (xTrain, yTrain), batch_size = 12)\n"
   ]
  },
  {
   "cell_type": "markdown",
   "id": "7fd09394",
   "metadata": {},
   "source": [
    "# Testing"
   ]
  },
  {
   "cell_type": "code",
   "execution_count": 59,
   "id": "0b81bace",
   "metadata": {},
   "outputs": [],
   "source": [
    "test_data =\"i twisted my ankle while walking yesterday\""
   ]
  },
  {
   "cell_type": "code",
   "execution_count": 60,
   "id": "7b72c38c",
   "metadata": {},
   "outputs": [],
   "source": [
    "res = predictor.predict(test_data)"
   ]
  },
  {
   "cell_type": "code",
   "execution_count": 69,
   "id": "0ed16bd5",
   "metadata": {},
   "outputs": [],
   "source": [
    "threshold=0.045"
   ]
  },
  {
   "cell_type": "code",
   "execution_count": 71,
   "id": "2ce8d33c",
   "metadata": {},
   "outputs": [
    {
     "data": {
      "image/png": "[encoded data removed]",
      "text/plain": [
       "<Figure size 720x720 with 1 Axes>"
      ]
     },
     "metadata": {
      "needs_background": "light"
     },
     "output_type": "display_data"
    }
   ],
   "source": [
    "keys=[]\n",
    "values=[]\n",
    "op=[]\n",
    "for i,k in res:\n",
    "    keys.append(i)\n",
    "    values.append(k)\n",
    "    if k >= threshold:\n",
    "        op.append({i:k})\n",
    "plt.figure(figsize=(10,10))\n",
    "plt.barh(keys, values)\n",
    "plt.axvline(x=threshold,c=\"red\")\n",
    "plt.xticks(rotation=90)\n",
    "plt.show()"
   ]
  },
  {
   "cell_type": "code",
   "execution_count": 72,
   "id": "5ec5334f",
   "metadata": {},
   "outputs": [
    {
     "data": {
      "text/plain": [
       "[{'annoyance': 0.047840893},\n",
       " {'curiosity': 0.053382427},\n",
       " {'disappointment': 0.07123074},\n",
       " {'disapproval': 0.054032266},\n",
       " {'realization': 0.05128002},\n",
       " {'sadness': 0.06522086},\n",
       " {'neutral': 0.39544258}]"
      ]
     },
     "execution_count": 72,
     "metadata": {},
     "output_type": "execute_result"
    }
   ],
   "source": [
    "op"
   ]
  },
  {
   "cell_type": "code",
   "execution_count": null,
   "id": "827c2e75",
   "metadata": {},
   "outputs": [],
   "source": []
  }
 ],
 "metadata": {
  "kernelspec": {
   "display_name": "Python 3",
   "language": "python",
   "name": "python3"
  },
  "language_info": {
   "codemirror_mode": {
    "name": "ipython",
    "version": 3
   },
   "file_extension": ".py",
   "mimetype": "text/x-python",
   "name": "python",
   "nbconvert_exporter": "python",
   "pygments_lexer": "ipython3",
   "version": "3.8.8"
  }
 },
 "nbformat": 4,
 "nbformat_minor": 5
}
